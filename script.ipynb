{
 "cells": [
  {
   "cell_type": "code",
   "execution_count": 1,
   "id": "662400f1",
   "metadata": {},
   "outputs": [],
   "source": [
    "import pandas as pd"
   ]
  },
  {
   "cell_type": "code",
   "execution_count": 2,
   "metadata": {},
   "outputs": [
    {
     "name": "stderr",
     "output_type": "stream",
     "text": [
      "c:\\Users\\Dev\\AppData\\Local\\Programs\\Python\\Python313\\Lib\\site-packages\\openpyxl\\worksheet\\_reader.py:329: UserWarning: Unknown extension is not supported and will be removed\n",
      "  warn(msg)\n",
      "c:\\Users\\Dev\\AppData\\Local\\Programs\\Python\\Python313\\Lib\\site-packages\\openpyxl\\worksheet\\_reader.py:329: UserWarning: Unknown extension is not supported and will be removed\n",
      "  warn(msg)\n",
      "c:\\Users\\Dev\\AppData\\Local\\Programs\\Python\\Python313\\Lib\\site-packages\\openpyxl\\worksheet\\_reader.py:329: UserWarning: Unknown extension is not supported and will be removed\n",
      "  warn(msg)\n"
     ]
    }
   ],
   "source": [
    "# Chargement des fichiers Excel\n",
    "web = pd.read_excel(\"data/Fichier_web.xlsx\")\n",
    "erp = pd.read_excel(\"data/Fichier_erp.xlsx\")\n",
    "liaison = pd.read_excel(\"data/fichier_liaison.xlsx\")"
   ]
  },
  {
   "cell_type": "code",
   "execution_count": 4,
   "id": "684bc0fe",
   "metadata": {},
   "outputs": [],
   "source": [
    "# Nettoyage : suppression des lignes vides\n",
    "web = web.dropna(subset=[\"sku\", \"post_title\"])\n",
    "erp = erp.dropna(subset=[\"product_id\", \"price\"])\n",
    "liaison = liaison.dropna()\n",
    "\n",
    "# Supprimer les doublons\n",
    "web = web.drop_duplicates(subset=\"sku\")\n",
    "erp = erp.drop_duplicates(subset=\"product_id\")\n",
    "liaison = liaison.drop_duplicates()"
   ]
  },
  {
   "cell_type": "code",
   "execution_count": 5,
   "id": "8adb7135",
   "metadata": {},
   "outputs": [],
   "source": [
    "# On convertit les types si nécessaire\n",
    "web[\"sku\"] = web[\"sku\"].astype(str)\n",
    "liaison[\"id_web\"] = liaison[\"id_web\"].astype(str)\n",
    "\n",
    "# Jointure liaison + web\n",
    "df = pd.merge(liaison, web, left_on=\"id_web\", right_on=\"sku\", how=\"inner\")\n",
    "\n",
    "# Puis jointure avec ERP\n",
    "df = pd.merge(df, erp, on=\"product_id\", how=\"inner\")\n"
   ]
  },
  {
   "cell_type": "code",
   "execution_count": 6,
   "id": "eb9836dc",
   "metadata": {},
   "outputs": [],
   "source": [
    "# Ajout d'une colonne chiffre d'affaires (CA)\n",
    "df[\"CA\"] = df[\"price\"] * df[\"stock_quantity\"]\n",
    "\n",
    "# CA total\n",
    "ca_total = df[\"CA\"].sum()\n",
    "\n",
    "# CA par produit\n",
    "ca_par_produit = df.groupby(\"post_title\")[\"CA\"].sum().reset_index()\n"
   ]
  },
  {
   "cell_type": "code",
   "execution_count": 7,
   "id": "1f877e23",
   "metadata": {},
   "outputs": [],
   "source": [
    "from scipy.stats import zscore\n",
    "\n",
    "# Calcul du z-score sur les prix\n",
    "df[\"z_score_price\"] = zscore(df[\"price\"])\n",
    "\n",
    "# Classification\n",
    "df[\"type_vin\"] = df[\"z_score_price\"].apply(lambda z: \"premium\" if z > 1 else \"ordinaire\")\n",
    "\n",
    "# Séparation\n",
    "vins_premium = df[df[\"type_vin\"] == \"premium\"]\n",
    "vins_ordinaires = df[df[\"type_vin\"] == \"ordinaire\"]\n"
   ]
  },
  {
   "cell_type": "code",
   "execution_count": 8,
   "id": "6dc1c458",
   "metadata": {},
   "outputs": [],
   "source": [
    "# Sauvegarde en Excel\n",
    "with pd.ExcelWriter(\"rapport_vins.xlsx\") as writer:\n",
    "    ca_par_produit.to_excel(writer, sheet_name=\"CA_par_produit\", index=False)\n",
    "    pd.DataFrame([{\"CA_total\": ca_total}]).to_excel(writer, sheet_name=\"CA_total\", index=False)\n",
    "    vins_premium.to_excel(writer, sheet_name=\"Vins_premium\", index=False)\n",
    "    vins_ordinaires.to_excel(writer, sheet_name=\"Vins_ordinaires\", index=False)\n"
   ]
  },
  {
   "cell_type": "code",
   "execution_count": null,
   "id": "ed69ca12",
   "metadata": {},
   "outputs": [],
   "source": []
  },
  {
   "cell_type": "code",
   "execution_count": 9,
   "id": "1a4ffcd0",
   "metadata": {},
   "outputs": [
    {
     "ename": "AssertionError",
     "evalue": "Valeurs manquantes dans 'web'",
     "output_type": "error",
     "traceback": [
      "\u001b[1;31m---------------------------------------------------------------------------\u001b[0m",
      "\u001b[1;31mAssertionError\u001b[0m                            Traceback (most recent call last)",
      "Cell \u001b[1;32mIn[9], line 1\u001b[0m\n\u001b[1;32m----> 1\u001b[0m \u001b[38;5;28;01massert\u001b[39;00m \u001b[38;5;129;01mnot\u001b[39;00m web\u001b[38;5;241m.\u001b[39misnull()\u001b[38;5;241m.\u001b[39many()\u001b[38;5;241m.\u001b[39many(), \u001b[38;5;124m\"\u001b[39m\u001b[38;5;124mValeurs manquantes dans \u001b[39m\u001b[38;5;124m'\u001b[39m\u001b[38;5;124mweb\u001b[39m\u001b[38;5;124m'\u001b[39m\u001b[38;5;124m\"\u001b[39m\n\u001b[0;32m      2\u001b[0m \u001b[38;5;28;01massert\u001b[39;00m \u001b[38;5;129;01mnot\u001b[39;00m erp\u001b[38;5;241m.\u001b[39misnull()\u001b[38;5;241m.\u001b[39many()\u001b[38;5;241m.\u001b[39many(), \u001b[38;5;124m\"\u001b[39m\u001b[38;5;124mValeurs manquantes dans \u001b[39m\u001b[38;5;124m'\u001b[39m\u001b[38;5;124merp\u001b[39m\u001b[38;5;124m'\u001b[39m\u001b[38;5;124m\"\u001b[39m\n\u001b[0;32m      3\u001b[0m \u001b[38;5;28;01massert\u001b[39;00m df[\u001b[38;5;124m\"\u001b[39m\u001b[38;5;124mCA\u001b[39m\u001b[38;5;124m\"\u001b[39m]\u001b[38;5;241m.\u001b[39mmin() \u001b[38;5;241m>\u001b[39m\u001b[38;5;241m=\u001b[39m \u001b[38;5;241m0\u001b[39m, \u001b[38;5;124m\"\u001b[39m\u001b[38;5;124mCA négatif détecté\u001b[39m\u001b[38;5;124m\"\u001b[39m\n",
      "\u001b[1;31mAssertionError\u001b[0m: Valeurs manquantes dans 'web'"
     ]
    }
   ],
   "source": [
    "assert not web.isnull().any().any(), \"Valeurs manquantes dans 'web'\"\n",
    "assert not erp.isnull().any().any(), \"Valeurs manquantes dans 'erp'\"\n",
    "assert df[\"CA\"].min() >= 0, \"CA négatif détecté\"\n",
    "assert \"premium\" in df[\"type_vin\"].values, \"Aucun vin premium détecté\"\n"
   ]
  }
 ],
 "metadata": {
  "kernelspec": {
   "display_name": "Python 3",
   "language": "python",
   "name": "python3"
  },
  "language_info": {
   "codemirror_mode": {
    "name": "ipython",
    "version": 3
   },
   "file_extension": ".py",
   "mimetype": "text/x-python",
   "name": "python",
   "nbconvert_exporter": "python",
   "pygments_lexer": "ipython3",
   "version": "3.13.1"
  }
 },
 "nbformat": 4,
 "nbformat_minor": 5
}
